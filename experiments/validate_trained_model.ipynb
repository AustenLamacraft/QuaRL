{
 "cells": [
  {
   "cell_type": "markdown",
   "metadata": {},
   "source": [
    "# Validate trained model\n",
    "This notebook can be used to compute the energy of a trained drift function."
   ]
  },
  {
   "cell_type": "code",
   "execution_count": null,
   "metadata": {},
   "outputs": [],
   "source": [
    "%load_ext autoreload\n",
    "%autoreload 2"
   ]
  },
  {
   "cell_type": "code",
   "execution_count": null,
   "metadata": {},
   "outputs": [],
   "source": [
    "import sys\n",
    "sys.path.append('../../')\n",
    "import continuum\n",
    "import torch"
   ]
  },
  {
   "cell_type": "markdown",
   "metadata": {},
   "source": [
    "## Load model\n",
    "Please specify which checkpointed model you would like to validate by giving its path.\n",
    "Then that checkpoint will be loaded."
   ]
  },
  {
   "cell_type": "code",
   "execution_count": null,
   "metadata": {},
   "outputs": [],
   "source": [
    "checkpoint_path = 'results/He/version_0/_ckpt_epoch_49.ckpt'\n",
    "model = continuum.SDESolve.load_from_checkpoint(checkpoint_path)"
   ]
  },
  {
   "cell_type": "code",
   "execution_count": null,
   "metadata": {},
   "outputs": [],
   "source": [
    "device = 'cuda:3'\n",
    "model = model.to(device=device)\n",
    "model.state = model.state.to(device=device)\n",
    "model.drift_fn = model.drift_fn.to(device=device)\n"
   ]
  },
  {
   "cell_type": "markdown",
   "metadata": {},
   "source": [
    "## Validate\n",
    "Now the valiation can start. It will continually print estimates for the energy as well as its bias and standard deviation.\n",
    "The argument `max_stages` can be used to limit the time it takes to validate. "
   ]
  },
  {
   "cell_type": "code",
   "execution_count": null,
   "metadata": {},
   "outputs": [],
   "source": [
    "atol_bias = 0.00001\n",
    "validator = continuum.validate.Validator(model, atol_bias)"
   ]
  },
  {
   "cell_type": "code",
   "execution_count": null,
   "metadata": {},
   "outputs": [],
   "source": [
    "with torch.no_grad():\n",
    "    validator(model.state, talks=True, max_stages=8)"
   ]
  }
 ],
 "metadata": {
  "language_info": {
   "codemirror_mode": {
    "name": "ipython",
    "version": 3
   },
   "file_extension": ".py",
   "mimetype": "text/x-python",
   "name": "python",
   "nbconvert_exporter": "python",
   "pygments_lexer": "ipython3",
   "version": "3.7.5-final"
  },
  "orig_nbformat": 2,
  "kernelspec": {
   "name": "python37564bitrl4qmconda91f6a7455f6c4e23900038f3ef62676e",
   "display_name": "Python 3.7.5 64-bit ('rl4qm': conda)"
  }
 },
 "nbformat": 4,
 "nbformat_minor": 2
}