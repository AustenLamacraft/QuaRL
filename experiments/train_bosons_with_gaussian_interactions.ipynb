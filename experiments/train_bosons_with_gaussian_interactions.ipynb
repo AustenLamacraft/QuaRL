{
 "cells": [
  {
   "cell_type": "code",
   "execution_count": 1,
   "metadata": {
    "scrolled": true
   },
   "outputs": [],
   "source": [
    "import torch\n",
    "import sys\n",
    "sys.path.append('../../')\n",
    "\n",
    "#Necessary if Pytorch lightning is not installed on path\n",
    "sys.path.append(\"../../.local/lib/python3.6/site-packages/\")\n",
    "\n",
    "import pytorch_lightning\n",
    "import continuum\n",
    "from trainer import Trainer"
   ]
  },
  {
   "cell_type": "markdown",
   "metadata": {},
   "source": [
    "### Make hparams from default_hparams"
   ]
  },
  {
   "cell_type": "code",
   "execution_count": 10,
   "metadata": {
    "scrolled": true
   },
   "outputs": [
    {
     "name": "stdout",
     "output_type": "stream",
     "text": [
      "Namespace(H=64, atol_bias=0.01, batch_size=1024, dt=0.01, epoch_size=10, gamma_lr=0.95, git_commit='cd8b1dd', has_vdW=True, loss_fn='boundary_corrected_holland', lr=0.01, method='SOSRA', num_steps=1024, strong=False, validate_fn='holland_energy')\n"
     ]
    }
   ],
   "source": [
    "hparams = continuum.DEFAULT_HPARAMS\n",
    "print(hparams)"
   ]
  },
  {
   "cell_type": "markdown",
   "metadata": {},
   "source": [
    "### System specific hparams"
   ]
  },
  {
   "cell_type": "code",
   "execution_count": 11,
   "metadata": {},
   "outputs": [],
   "source": [
    "hparams.net = 'PairDrift'\n",
    "hparams.potential = 'gaussint_param'\n",
    "hparams.number_of_particles = 4\n",
    "hparams.D = 2\n",
    "hparams.g = 15 \n",
    "hparams.s = 0.5 \n",
    "hparams.omega = 1"
   ]
  },
  {
   "cell_type": "code",
   "execution_count": 12,
   "metadata": {},
   "outputs": [
    {
     "name": "stdout",
     "output_type": "stream",
     "text": [
      "Namespace(D=2, H=64, atol_bias=0.1, batch_size=512, dt=0.01, epoch_size=10, g=15, gamma_lr=0.95, git_commit='cd8b1dd', has_vdW=True, loss_fn='boundary_corrected_holland', lr=0.01, method='SOSRA', net='PairDrift', num_steps=64, number_of_particles=4, omega=1, potential='gaussint_param', s=0.5, strong=False, validate_fn='holland_energy')\n"
     ]
    }
   ],
   "source": [
    "print(hparams)"
   ]
  },
  {
   "cell_type": "markdown",
   "metadata": {},
   "source": [
    "## Define model"
   ]
  },
  {
   "cell_type": "code",
   "execution_count": 13,
   "metadata": {},
   "outputs": [],
   "source": [
    "model = continuum.Model(hparams)"
   ]
  },
  {
   "cell_type": "markdown",
   "metadata": {},
   "source": [
    "## Train model"
   ]
  },
  {
   "cell_type": "code",
   "execution_count": 14,
   "metadata": {},
   "outputs": [
    {
     "name": "stderr",
     "output_type": "stream",
     "text": [
      "GPU available: True, used: True\n",
      "INFO:lightning:GPU available: True, used: True\n",
      "CUDA_VISIBLE_DEVICES: [0]\n",
      "INFO:lightning:CUDA_VISIBLE_DEVICES: [0]\n"
     ]
    }
   ],
   "source": [
    "trainer = Trainer(name='Boson_4p_g12', gpus=[0])"
   ]
  },
  {
   "cell_type": "code",
   "execution_count": 15,
   "metadata": {},
   "outputs": [
    {
     "name": "stderr",
     "output_type": "stream",
     "text": [
      "\n",
      "   | Name                          | Type            | Params\n",
      "--------------------------------------------------------------\n",
      "0  | drift_fn                      | PairDrift       | 13 K  \n",
      "1  | drift_fn.make_features        | MakeFeatures    | 384   \n",
      "2  | drift_fn.make_features.single | Linear          | 192   \n",
      "3  | drift_fn.make_features.pair   | Linear          | 192   \n",
      "4  | drift_fn.combine1             | CombineFeatures | 8 K   \n",
      "5  | drift_fn.combine1.single      | Linear          | 4 K   \n",
      "6  | drift_fn.combine1.pair        | Linear          | 4 K   \n",
      "7  | drift_fn.combine2             | CombineFeatures | 260   \n",
      "8  | drift_fn.combine2.single      | Linear          | 130   \n",
      "9  | drift_fn.combine2.pair        | Linear          | 130   \n",
      "10 | drift_fn.pair_lin             | Linear          | 4 K   \n",
      "11 | drift_fn.activation           | Hardtanh        | 0     \n",
      "12 | drift_fn.skip                 | Linear          | 4     \n",
      "13 | sde                           | SOSRA           | 13 K  \n",
      "INFO:lightning:\n",
      "   | Name                          | Type            | Params\n",
      "--------------------------------------------------------------\n",
      "0  | drift_fn                      | PairDrift       | 13 K  \n",
      "1  | drift_fn.make_features        | MakeFeatures    | 384   \n",
      "2  | drift_fn.make_features.single | Linear          | 192   \n",
      "3  | drift_fn.make_features.pair   | Linear          | 192   \n",
      "4  | drift_fn.combine1             | CombineFeatures | 8 K   \n",
      "5  | drift_fn.combine1.single      | Linear          | 4 K   \n",
      "6  | drift_fn.combine1.pair        | Linear          | 4 K   \n",
      "7  | drift_fn.combine2             | CombineFeatures | 260   \n",
      "8  | drift_fn.combine2.single      | Linear          | 130   \n",
      "9  | drift_fn.combine2.pair        | Linear          | 130   \n",
      "10 | drift_fn.pair_lin             | Linear          | 4 K   \n",
      "11 | drift_fn.activation           | Hardtanh        | 0     \n",
      "12 | drift_fn.skip                 | Linear          | 4     \n",
      "13 | sde                           | SOSRA           | 13 K  \n",
      "/home/ariel/anaconda3/envs/rl4qm/lib/python3.7/site-packages/pytorch_lightning/utilities/distributed.py:23: UserWarning: The dataloader, val dataloader 0, does not have many workers which may be a bottleneck. Consider increasing the value of the `num_workers` argument` in the `DataLoader` init to improve performance.\n",
      "  warnings.warn(*args, **kwargs)\n"
     ]
    },
    {
     "data": {
      "application/vnd.jupyter.widget-view+json": {
       "model_id": "f1caeef03e8f46efbb90407ed357a105",
       "version_major": 2,
       "version_minor": 0
      },
      "text/plain": [
       "HBox(children=(FloatProgress(value=1.0, bar_style='info', description='Validation sanity check', layout=Layout…"
      ]
     },
     "metadata": {},
     "output_type": "display_data"
    },
    {
     "name": "stdout",
     "output_type": "stream",
     "text": [
      "Stage 1 of 1\n",
      "energy 16.57524871826172\n",
      "bias of previous energy inf\n",
      "std 0.2530306577682495 , target 0.10000000149011612\n",
      "dt 0.01\n",
      "batch size 512\n",
      "num_steps 64\n",
      "\n",
      "\n",
      "Stage 1 of 2\n",
      "Stage 2 of 2\n",
      "energy 15.893179893493652\n",
      "bias of previous energy 0.9094251394271851\n",
      "std 0.022323666140437126 , target 0.10000000149011612\n",
      "dt 0.005\n",
      "batch size 209795\n",
      "num_steps 128\n",
      "\n",
      "\n"
     ]
    },
    {
     "name": "stderr",
     "output_type": "stream",
     "text": [
      "/home/ariel/anaconda3/envs/rl4qm/lib/python3.7/site-packages/pytorch_lightning/utilities/distributed.py:23: UserWarning: The dataloader, train dataloader, does not have many workers which may be a bottleneck. Consider increasing the value of the `num_workers` argument` in the `DataLoader` init to improve performance.\n",
      "  warnings.warn(*args, **kwargs)\n"
     ]
    },
    {
     "data": {
      "application/vnd.jupyter.widget-view+json": {
       "model_id": "6eb8749caadd4a48a3e9983b7f19e674",
       "version_major": 2,
       "version_minor": 0
      },
      "text/plain": [
       "HBox(children=(FloatProgress(value=1.0, bar_style='info', description='Training', layout=Layout(flex='2'), max…"
      ]
     },
     "metadata": {},
     "output_type": "display_data"
    },
    {
     "data": {
      "application/vnd.jupyter.widget-view+json": {
       "model_id": "",
       "version_major": 2,
       "version_minor": 0
      },
      "text/plain": [
       "HBox(children=(FloatProgress(value=1.0, bar_style='info', description='Validating', layout=Layout(flex='2'), m…"
      ]
     },
     "metadata": {},
     "output_type": "display_data"
    },
    {
     "name": "stdout",
     "output_type": "stream",
     "text": [
      "Stage 1 of 1\n",
      "energy 11.211454391479492\n",
      "bias of previous energy inf\n",
      "std 0.16901256144046783 , target 0.10000000149011612\n",
      "dt 0.01\n",
      "batch size 512\n",
      "num_steps 64\n",
      "\n",
      "\n",
      "Stage 1 of 2\n",
      "Stage 2 of 2\n",
      "energy 11.218854904174805\n",
      "bias of previous energy -0.009867350570857525\n",
      "std 0.016857124865055084 , target 0.10000000149011612\n",
      "dt 0.005\n",
      "batch size 93602\n",
      "num_steps 128\n",
      "\n",
      "\n"
     ]
    },
    {
     "data": {
      "application/vnd.jupyter.widget-view+json": {
       "model_id": "",
       "version_major": 2,
       "version_minor": 0
      },
      "text/plain": [
       "HBox(children=(FloatProgress(value=1.0, bar_style='info', description='Validating', layout=Layout(flex='2'), m…"
      ]
     },
     "metadata": {},
     "output_type": "display_data"
    },
    {
     "name": "stdout",
     "output_type": "stream",
     "text": [
      "Stage 1 of 1\n",
      "energy 14.07861614227295\n",
      "bias of previous energy inf\n",
      "std 0.30705907940864563 , target 0.10000000149011612\n",
      "dt 0.01\n",
      "batch size 512\n",
      "num_steps 64\n",
      "\n",
      "\n",
      "Stage 1 of 2\n",
      "Stage 2 of 2\n",
      "energy 14.4754056930542\n",
      "bias of previous energy -0.529052734375\n",
      "std 0.014203718863427639 , target 0.10000000149011612\n",
      "dt 0.005\n",
      "batch size 308954\n",
      "num_steps 128\n",
      "\n",
      "\n"
     ]
    },
    {
     "data": {
      "application/vnd.jupyter.widget-view+json": {
       "model_id": "",
       "version_major": 2,
       "version_minor": 0
      },
      "text/plain": [
       "HBox(children=(FloatProgress(value=1.0, bar_style='info', description='Validating', layout=Layout(flex='2'), m…"
      ]
     },
     "metadata": {},
     "output_type": "display_data"
    },
    {
     "name": "stdout",
     "output_type": "stream",
     "text": [
      "Stage 1 of 1\n",
      "energy 12.509300231933594\n",
      "bias of previous energy inf\n",
      "std 0.1496356576681137 , target 0.10000000149011612\n",
      "dt 0.01\n",
      "batch size 512\n",
      "num_steps 64\n",
      "\n",
      "\n",
      "Stage 1 of 2\n",
      "Stage 2 of 2\n",
      "energy 12.483729362487793\n",
      "bias of previous energy 0.034094493836164474\n",
      "std 0.013282028958201408 , target 0.10000000149011612\n",
      "dt 0.005\n",
      "batch size 73370\n",
      "num_steps 128\n",
      "\n",
      "\n"
     ]
    },
    {
     "data": {
      "application/vnd.jupyter.widget-view+json": {
       "model_id": "",
       "version_major": 2,
       "version_minor": 0
      },
      "text/plain": [
       "HBox(children=(FloatProgress(value=1.0, bar_style='info', description='Validating', layout=Layout(flex='2'), m…"
      ]
     },
     "metadata": {},
     "output_type": "display_data"
    },
    {
     "name": "stdout",
     "output_type": "stream",
     "text": [
      "Stage 1 of 1\n",
      "energy 10.324363708496094\n",
      "bias of previous energy inf\n",
      "std 0.18052515387535095 , target 0.10000000149011612\n",
      "dt 0.01\n",
      "batch size 512\n",
      "num_steps 64\n",
      "\n",
      "\n",
      "Stage 1 of 2\n",
      "Stage 2 of 2\n",
      "energy 10.479965209960938\n",
      "bias of previous energy -0.2074686735868454\n",
      "std 0.01582440175116062 , target 0.10000000149011612\n",
      "dt 0.005\n",
      "batch size 106788\n",
      "num_steps 128\n",
      "\n",
      "\n"
     ]
    },
    {
     "data": {
      "application/vnd.jupyter.widget-view+json": {
       "model_id": "",
       "version_major": 2,
       "version_minor": 0
      },
      "text/plain": [
       "HBox(children=(FloatProgress(value=1.0, bar_style='info', description='Validating', layout=Layout(flex='2'), m…"
      ]
     },
     "metadata": {},
     "output_type": "display_data"
    },
    {
     "name": "stdout",
     "output_type": "stream",
     "text": [
      "Stage 1 of 1\n",
      "energy 9.454554557800293\n",
      "bias of previous energy inf\n",
      "std 0.12039138376712799 , target 0.10000000149011612\n",
      "dt 0.01\n",
      "batch size 512\n",
      "num_steps 64\n",
      "\n",
      "\n",
      "Stage 1 of 2\n",
      "Stage 2 of 2\n",
      "energy 9.415374755859375\n",
      "bias of previous energy 0.052239738404750824\n",
      "std 0.019077520817518234 , target 0.10000000149011612\n",
      "dt 0.005\n",
      "batch size 47494\n",
      "num_steps 128\n",
      "\n",
      "\n"
     ]
    },
    {
     "data": {
      "application/vnd.jupyter.widget-view+json": {
       "model_id": "",
       "version_major": 2,
       "version_minor": 0
      },
      "text/plain": [
       "HBox(children=(FloatProgress(value=1.0, bar_style='info', description='Validating', layout=Layout(flex='2'), m…"
      ]
     },
     "metadata": {},
     "output_type": "display_data"
    },
    {
     "name": "stdout",
     "output_type": "stream",
     "text": [
      "Stage 1 of 1\n",
      "energy 8.628868103027344\n",
      "bias of previous energy inf\n",
      "std 0.10056335479021072 , target 0.10000000149011612\n",
      "dt 0.01\n",
      "batch size 512\n",
      "num_steps 64\n",
      "\n",
      "\n",
      "Stage 1 of 2\n",
      "Stage 2 of 2\n",
      "energy 8.572797775268555\n",
      "bias of previous energy 0.07476043701171875\n",
      "std 0.018096236512064934 , target 0.10000000149011612\n",
      "dt 0.005\n",
      "batch size 33138\n",
      "num_steps 128\n",
      "\n",
      "\n"
     ]
    },
    {
     "data": {
      "application/vnd.jupyter.widget-view+json": {
       "model_id": "",
       "version_major": 2,
       "version_minor": 0
      },
      "text/plain": [
       "HBox(children=(FloatProgress(value=1.0, bar_style='info', description='Validating', layout=Layout(flex='2'), m…"
      ]
     },
     "metadata": {},
     "output_type": "display_data"
    },
    {
     "name": "stdout",
     "output_type": "stream",
     "text": [
      "Stage 1 of 1\n",
      "energy 8.326164245605469\n",
      "bias of previous energy inf\n",
      "std 0.11198876053094864 , target 0.10000000149011612\n",
      "dt 0.01\n",
      "batch size 512\n",
      "num_steps 64\n",
      "\n",
      "\n",
      "Stage 1 of 2\n",
      "Stage 2 of 2\n",
      "energy 8.378983497619629\n",
      "bias of previous energy -0.07042567431926727\n",
      "std 0.01579922065138817 , target 0.10000000149011612\n",
      "dt 0.005\n",
      "batch size 41095\n",
      "num_steps 128\n",
      "\n",
      "\n"
     ]
    },
    {
     "data": {
      "application/vnd.jupyter.widget-view+json": {
       "model_id": "",
       "version_major": 2,
       "version_minor": 0
      },
      "text/plain": [
       "HBox(children=(FloatProgress(value=1.0, bar_style='info', description='Validating', layout=Layout(flex='2'), m…"
      ]
     },
     "metadata": {},
     "output_type": "display_data"
    },
    {
     "name": "stdout",
     "output_type": "stream",
     "text": [
      "Stage 1 of 1\n",
      "energy 8.434988021850586\n",
      "bias of previous energy inf\n",
      "std 0.08501049131155014 , target 0.10000000149011612\n",
      "dt 0.01\n",
      "batch size 512\n",
      "num_steps 64\n",
      "\n",
      "\n",
      "Stage 1 of 2\n",
      "Stage 2 of 2\n",
      "energy 8.355122566223145\n",
      "bias of previous energy 0.10648727416992188\n",
      "std 0.021410392597317696 , target 0.10000000149011612\n",
      "dt 0.005\n",
      "batch size 23680\n",
      "num_steps 128\n",
      "\n",
      "\n"
     ]
    },
    {
     "data": {
      "application/vnd.jupyter.widget-view+json": {
       "model_id": "",
       "version_major": 2,
       "version_minor": 0
      },
      "text/plain": [
       "HBox(children=(FloatProgress(value=1.0, bar_style='info', description='Validating', layout=Layout(flex='2'), m…"
      ]
     },
     "metadata": {},
     "output_type": "display_data"
    },
    {
     "name": "stdout",
     "output_type": "stream",
     "text": [
      "Stage 1 of 1\n",
      "energy 8.076019287109375\n",
      "bias of previous energy inf\n",
      "std 0.09219969809055328 , target 0.10000000149011612\n",
      "dt 0.01\n",
      "batch size 512\n",
      "num_steps 64\n",
      "\n",
      "\n",
      "Stage 1 of 2\n",
      "Stage 2 of 2\n",
      "energy 8.097986221313477\n",
      "bias of previous energy -0.02928924560546875\n",
      "std 0.016844572499394417 , target 0.10000000149011612\n",
      "dt 0.005\n",
      "batch size 27855\n",
      "num_steps 128\n",
      "\n",
      "\n"
     ]
    },
    {
     "data": {
      "application/vnd.jupyter.widget-view+json": {
       "model_id": "",
       "version_major": 2,
       "version_minor": 0
      },
      "text/plain": [
       "HBox(children=(FloatProgress(value=1.0, bar_style='info', description='Validating', layout=Layout(flex='2'), m…"
      ]
     },
     "metadata": {},
     "output_type": "display_data"
    },
    {
     "name": "stdout",
     "output_type": "stream",
     "text": [
      "Stage 1 of 1\n",
      "energy 8.081043243408203\n",
      "bias of previous energy inf\n",
      "std 0.08810951560735703 , target 0.10000000149011612\n",
      "dt 0.01\n",
      "batch size 512\n",
      "num_steps 64\n",
      "\n",
      "\n",
      "Stage 1 of 2\n",
      "Stage 2 of 2\n",
      "energy 8.049139022827148\n",
      "bias of previous energy 0.04253896325826645\n",
      "std 0.01460007019340992 , target 0.10000000149011612\n",
      "dt 0.005\n",
      "batch size 25438\n",
      "num_steps 128\n",
      "\n",
      "\n"
     ]
    },
    {
     "data": {
      "application/vnd.jupyter.widget-view+json": {
       "model_id": "",
       "version_major": 2,
       "version_minor": 0
      },
      "text/plain": [
       "HBox(children=(FloatProgress(value=1.0, bar_style='info', description='Validating', layout=Layout(flex='2'), m…"
      ]
     },
     "metadata": {},
     "output_type": "display_data"
    },
    {
     "name": "stdout",
     "output_type": "stream",
     "text": [
      "Stage 1 of 1\n",
      "energy 7.920952796936035\n",
      "bias of previous energy inf\n",
      "std 0.07339601218700409 , target 0.10000000149011612\n",
      "dt 0.01\n",
      "batch size 512\n",
      "num_steps 64\n",
      "\n",
      "\n",
      "Stage 1 of 2\n",
      "Stage 2 of 2\n",
      "energy 7.99834680557251\n",
      "bias of previous energy -0.10319201648235321\n",
      "std 0.016495132818818092 , target 0.10000000149011612\n",
      "dt 0.005\n",
      "batch size 17652\n",
      "num_steps 128\n",
      "\n",
      "\n"
     ]
    },
    {
     "data": {
      "application/vnd.jupyter.widget-view+json": {
       "model_id": "",
       "version_major": 2,
       "version_minor": 0
      },
      "text/plain": [
       "HBox(children=(FloatProgress(value=1.0, bar_style='info', description='Validating', layout=Layout(flex='2'), m…"
      ]
     },
     "metadata": {},
     "output_type": "display_data"
    },
    {
     "name": "stdout",
     "output_type": "stream",
     "text": [
      "Stage 1 of 1\n",
      "energy 8.082279205322266\n",
      "bias of previous energy inf\n",
      "std 0.07963896542787552 , target 0.10000000149011612\n",
      "dt 0.01\n",
      "batch size 512\n",
      "num_steps 64\n",
      "\n",
      "\n",
      "Stage 1 of 2\n",
      "Stage 2 of 2\n",
      "energy 7.949132442474365\n",
      "bias of previous energy 0.17752902209758759\n",
      "std 0.018704921007156372 , target 0.10000000149011612\n",
      "dt 0.005\n",
      "batch size 20782\n",
      "num_steps 128\n",
      "\n",
      "\n"
     ]
    },
    {
     "data": {
      "application/vnd.jupyter.widget-view+json": {
       "model_id": "",
       "version_major": 2,
       "version_minor": 0
      },
      "text/plain": [
       "HBox(children=(FloatProgress(value=1.0, bar_style='info', description='Validating', layout=Layout(flex='2'), m…"
      ]
     },
     "metadata": {},
     "output_type": "display_data"
    },
    {
     "name": "stdout",
     "output_type": "stream",
     "text": [
      "Stage 1 of 1\n",
      "energy 7.810351848602295\n",
      "bias of previous energy inf\n",
      "std 0.07970424741506577 , target 0.10000000149011612\n",
      "dt 0.01\n",
      "batch size 512\n",
      "num_steps 64\n",
      "\n",
      "\n",
      "Stage 1 of 2\n",
      "Stage 2 of 2\n",
      "energy 7.8705830574035645\n",
      "bias of previous energy -0.08030828088521957\n",
      "std 0.022561078891158104 , target 0.10000000149011612\n",
      "dt 0.005\n",
      "batch size 20816\n",
      "num_steps 128\n",
      "\n",
      "\n"
     ]
    },
    {
     "data": {
      "application/vnd.jupyter.widget-view+json": {
       "model_id": "",
       "version_major": 2,
       "version_minor": 0
      },
      "text/plain": [
       "HBox(children=(FloatProgress(value=1.0, bar_style='info', description='Validating', layout=Layout(flex='2'), m…"
      ]
     },
     "metadata": {},
     "output_type": "display_data"
    },
    {
     "name": "stdout",
     "output_type": "stream",
     "text": [
      "Stage 1 of 1\n",
      "energy 7.925304412841797\n",
      "bias of previous energy inf\n",
      "std 0.07882332056760788 , target 0.10000000149011612\n",
      "dt 0.01\n",
      "batch size 512\n",
      "num_steps 64\n",
      "\n",
      "\n",
      "Stage 1 of 2\n",
      "Stage 2 of 2\n",
      "energy 7.841730117797852\n",
      "bias of previous energy 0.11143239587545395\n",
      "std 0.018662849441170692 , target 0.10000000149011612\n",
      "dt 0.005\n",
      "batch size 20359\n",
      "num_steps 128\n",
      "\n",
      "\n"
     ]
    },
    {
     "data": {
      "application/vnd.jupyter.widget-view+json": {
       "model_id": "",
       "version_major": 2,
       "version_minor": 0
      },
      "text/plain": [
       "HBox(children=(FloatProgress(value=1.0, bar_style='info', description='Validating', layout=Layout(flex='2'), m…"
      ]
     },
     "metadata": {},
     "output_type": "display_data"
    },
    {
     "name": "stdout",
     "output_type": "stream",
     "text": [
      "Stage 1 of 1\n",
      "energy 7.688274383544922\n",
      "bias of previous energy inf\n",
      "std 0.09704219549894333 , target 0.10000000149011612\n",
      "dt 0.01\n",
      "batch size 512\n",
      "num_steps 64\n",
      "\n",
      "\n",
      "Stage 1 of 2\n",
      "Stage 2 of 2\n",
      "energy 7.848690986633301\n",
      "bias of previous energy -0.21388880908489227\n",
      "std 0.011975756846368313 , target 0.10000000149011612\n",
      "dt 0.005\n",
      "batch size 30858\n",
      "num_steps 128\n",
      "\n",
      "\n"
     ]
    },
    {
     "data": {
      "application/vnd.jupyter.widget-view+json": {
       "model_id": "",
       "version_major": 2,
       "version_minor": 0
      },
      "text/plain": [
       "HBox(children=(FloatProgress(value=1.0, bar_style='info', description='Validating', layout=Layout(flex='2'), m…"
      ]
     },
     "metadata": {},
     "output_type": "display_data"
    },
    {
     "name": "stdout",
     "output_type": "stream",
     "text": [
      "Stage 1 of 1\n",
      "energy 7.89548397064209\n",
      "bias of previous energy inf\n",
      "std 0.08100785315036774 , target 0.10000000149011612\n",
      "dt 0.01\n",
      "batch size 512\n",
      "num_steps 64\n",
      "\n",
      "\n",
      "Stage 1 of 2\n",
      "Stage 2 of 2\n",
      "energy 7.809174537658691\n",
      "bias of previous energy 0.11507924646139145\n",
      "std 0.018790317699313164 , target 0.10000000149011612\n",
      "dt 0.005\n",
      "batch size 21503\n",
      "num_steps 128\n",
      "\n",
      "\n"
     ]
    },
    {
     "data": {
      "application/vnd.jupyter.widget-view+json": {
       "model_id": "",
       "version_major": 2,
       "version_minor": 0
      },
      "text/plain": [
       "HBox(children=(FloatProgress(value=1.0, bar_style='info', description='Validating', layout=Layout(flex='2'), m…"
      ]
     },
     "metadata": {},
     "output_type": "display_data"
    },
    {
     "name": "stdout",
     "output_type": "stream",
     "text": [
      "Stage 1 of 1\n",
      "energy 7.723025798797607\n",
      "bias of previous energy inf\n",
      "std 0.07245733588933945 , target 0.10000000149011612\n",
      "dt 0.01\n",
      "batch size 512\n",
      "num_steps 64\n",
      "\n",
      "\n",
      "Stage 1 of 2\n",
      "Stage 2 of 2\n",
      "energy 7.777822494506836\n",
      "bias of previous energy -0.07306226342916489\n",
      "std 0.02134235017001629 , target 0.10000000149011612\n",
      "dt 0.005\n",
      "batch size 17203\n",
      "num_steps 128\n",
      "\n",
      "\n"
     ]
    },
    {
     "data": {
      "application/vnd.jupyter.widget-view+json": {
       "model_id": "",
       "version_major": 2,
       "version_minor": 0
      },
      "text/plain": [
       "HBox(children=(FloatProgress(value=1.0, bar_style='info', description='Validating', layout=Layout(flex='2'), m…"
      ]
     },
     "metadata": {},
     "output_type": "display_data"
    },
    {
     "name": "stdout",
     "output_type": "stream",
     "text": [
      "Stage 1 of 1\n",
      "energy 7.743807315826416\n",
      "bias of previous energy inf\n",
      "std 0.08205157518386841 , target 0.10000000149011612\n",
      "dt 0.01\n",
      "batch size 512\n",
      "num_steps 64\n",
      "\n",
      "\n",
      "Stage 1 of 2\n",
      "Stage 2 of 2\n",
      "energy 7.785301208496094\n",
      "bias of previous energy -0.05532519146800041\n",
      "std 0.018408458679914474 , target 0.10000000149011612\n",
      "dt 0.005\n",
      "batch size 22060\n",
      "num_steps 128\n",
      "\n",
      "\n"
     ]
    },
    {
     "data": {
      "application/vnd.jupyter.widget-view+json": {
       "model_id": "",
       "version_major": 2,
       "version_minor": 0
      },
      "text/plain": [
       "HBox(children=(FloatProgress(value=1.0, bar_style='info', description='Validating', layout=Layout(flex='2'), m…"
      ]
     },
     "metadata": {},
     "output_type": "display_data"
    },
    {
     "name": "stdout",
     "output_type": "stream",
     "text": [
      "Stage 1 of 1\n",
      "energy 7.752320289611816\n",
      "bias of previous energy inf\n",
      "std 0.07716485857963562 , target 0.10000000149011612\n",
      "dt 0.01\n",
      "batch size 512\n",
      "num_steps 64\n",
      "\n",
      "\n",
      "Stage 1 of 2\n",
      "Stage 2 of 2\n",
      "energy 7.795282363891602\n",
      "bias of previous energy -0.057282768189907074\n",
      "std 0.020394695922732353 , target 0.10000000149011612\n",
      "dt 0.005\n",
      "batch size 19511\n",
      "num_steps 128\n",
      "\n",
      "\n"
     ]
    },
    {
     "data": {
      "application/vnd.jupyter.widget-view+json": {
       "model_id": "",
       "version_major": 2,
       "version_minor": 0
      },
      "text/plain": [
       "HBox(children=(FloatProgress(value=1.0, bar_style='info', description='Validating', layout=Layout(flex='2'), m…"
      ]
     },
     "metadata": {},
     "output_type": "display_data"
    },
    {
     "name": "stdout",
     "output_type": "stream",
     "text": [
      "Stage 1 of 1\n",
      "energy 7.845523834228516\n",
      "bias of previous energy inf\n",
      "std 0.08824542909860611 , target 0.10000000149011612\n",
      "dt 0.01\n",
      "batch size 512\n",
      "num_steps 64\n",
      "\n",
      "\n",
      "Stage 1 of 2\n",
      "Stage 2 of 2\n",
      "energy 7.746296405792236\n",
      "bias of previous energy 0.13230323791503906\n",
      "std 0.016859030351042747 , target 0.10000000149011612\n",
      "dt 0.005\n",
      "batch size 25517\n",
      "num_steps 128\n",
      "\n",
      "\n"
     ]
    },
    {
     "data": {
      "application/vnd.jupyter.widget-view+json": {
       "model_id": "",
       "version_major": 2,
       "version_minor": 0
      },
      "text/plain": [
       "HBox(children=(FloatProgress(value=1.0, bar_style='info', description='Validating', layout=Layout(flex='2'), m…"
      ]
     },
     "metadata": {},
     "output_type": "display_data"
    },
    {
     "name": "stdout",
     "output_type": "stream",
     "text": [
      "Stage 1 of 1\n",
      "energy 7.800345420837402\n",
      "bias of previous energy inf\n",
      "std 0.0737590342760086 , target 0.10000000149011612\n",
      "dt 0.01\n",
      "batch size 512\n",
      "num_steps 64\n",
      "\n",
      "\n",
      "Stage 1 of 2\n",
      "Stage 2 of 2\n",
      "energy 7.808341979980469\n",
      "bias of previous energy -0.010662078857421875\n",
      "std 0.019998297095298767 , target 0.10000000149011612\n",
      "dt 0.005\n",
      "batch size 17827\n",
      "num_steps 128\n",
      "\n",
      "\n"
     ]
    },
    {
     "data": {
      "application/vnd.jupyter.widget-view+json": {
       "model_id": "",
       "version_major": 2,
       "version_minor": 0
      },
      "text/plain": [
       "HBox(children=(FloatProgress(value=1.0, bar_style='info', description='Validating', layout=Layout(flex='2'), m…"
      ]
     },
     "metadata": {},
     "output_type": "display_data"
    },
    {
     "name": "stdout",
     "output_type": "stream",
     "text": [
      "Stage 1 of 1\n",
      "energy 7.792449951171875\n",
      "bias of previous energy inf\n",
      "std 0.08181645721197128 , target 0.10000000149011612\n",
      "dt 0.01\n",
      "batch size 512\n",
      "num_steps 64\n",
      "\n",
      "\n",
      "Stage 1 of 2\n",
      "Stage 2 of 2\n",
      "energy 7.752338409423828\n",
      "bias of previous energy 0.0534820556640625\n",
      "std 0.019315818324685097 , target 0.10000000149011612\n",
      "dt 0.005\n",
      "batch size 21934\n",
      "num_steps 128\n",
      "\n",
      "\n"
     ]
    },
    {
     "data": {
      "application/vnd.jupyter.widget-view+json": {
       "model_id": "",
       "version_major": 2,
       "version_minor": 0
      },
      "text/plain": [
       "HBox(children=(FloatProgress(value=1.0, bar_style='info', description='Validating', layout=Layout(flex='2'), m…"
      ]
     },
     "metadata": {},
     "output_type": "display_data"
    },
    {
     "name": "stdout",
     "output_type": "stream",
     "text": [
      "Stage 1 of 1\n",
      "energy 7.776785850524902\n",
      "bias of previous energy inf\n",
      "std 0.07239898294210434 , target 0.10000000149011612\n",
      "dt 0.01\n",
      "batch size 512\n",
      "num_steps 64\n",
      "\n",
      "\n",
      "Stage 1 of 2\n",
      "Stage 2 of 2\n",
      "energy 7.721642017364502\n",
      "bias of previous energy 0.07352511584758759\n",
      "std 0.01765315607190132 , target 0.10000000149011612\n",
      "dt 0.005\n",
      "batch size 17175\n",
      "num_steps 128\n",
      "\n",
      "\n"
     ]
    },
    {
     "data": {
      "application/vnd.jupyter.widget-view+json": {
       "model_id": "",
       "version_major": 2,
       "version_minor": 0
      },
      "text/plain": [
       "HBox(children=(FloatProgress(value=1.0, bar_style='info', description='Validating', layout=Layout(flex='2'), m…"
      ]
     },
     "metadata": {},
     "output_type": "display_data"
    },
    {
     "name": "stdout",
     "output_type": "stream",
     "text": [
      "Stage 1 of 1\n",
      "energy 7.792418479919434\n",
      "bias of previous energy inf\n",
      "std 0.07306510955095291 , target 0.10000000149011612\n",
      "dt 0.01\n",
      "batch size 512\n",
      "num_steps 64\n",
      "\n",
      "\n",
      "Stage 1 of 2\n",
      "Stage 2 of 2\n",
      "energy 7.7614312171936035\n",
      "bias of previous energy 0.041316352784633636\n",
      "std 0.015781523659825325 , target 0.10000000149011612\n",
      "dt 0.005\n",
      "batch size 17493\n",
      "num_steps 128\n",
      "\n",
      "\n"
     ]
    },
    {
     "data": {
      "application/vnd.jupyter.widget-view+json": {
       "model_id": "",
       "version_major": 2,
       "version_minor": 0
      },
      "text/plain": [
       "HBox(children=(FloatProgress(value=1.0, bar_style='info', description='Validating', layout=Layout(flex='2'), m…"
      ]
     },
     "metadata": {},
     "output_type": "display_data"
    },
    {
     "name": "stdout",
     "output_type": "stream",
     "text": [
      "Stage 1 of 1\n",
      "energy 7.8319292068481445\n",
      "bias of previous energy inf\n",
      "std 0.05306020751595497 , target 0.10000000149011612\n",
      "dt 0.01\n",
      "batch size 512\n",
      "num_steps 64\n",
      "\n",
      "\n",
      "Stage 1 of 2\n",
      "Stage 2 of 2\n",
      "energy 7.783003330230713\n",
      "bias of previous energy 0.06523450464010239\n",
      "std 0.028140198439359665 , target 0.10000000149011612\n",
      "dt 0.005\n",
      "batch size 9225\n",
      "num_steps 128\n",
      "\n",
      "\n"
     ]
    },
    {
     "data": {
      "application/vnd.jupyter.widget-view+json": {
       "model_id": "",
       "version_major": 2,
       "version_minor": 0
      },
      "text/plain": [
       "HBox(children=(FloatProgress(value=1.0, bar_style='info', description='Validating', layout=Layout(flex='2'), m…"
      ]
     },
     "metadata": {},
     "output_type": "display_data"
    },
    {
     "name": "stdout",
     "output_type": "stream",
     "text": [
      "Stage 1 of 1\n",
      "energy 7.785422325134277\n",
      "bias of previous energy inf\n",
      "std 0.09217339009046555 , target 0.10000000149011612\n",
      "dt 0.01\n",
      "batch size 512\n",
      "num_steps 64\n",
      "\n",
      "\n",
      "Stage 1 of 2\n",
      "Stage 2 of 2\n",
      "energy 7.702709197998047\n",
      "bias of previous energy 0.11028417199850082\n",
      "std 0.013159767724573612 , target 0.10000000149011612\n",
      "dt 0.005\n",
      "batch size 27839\n",
      "num_steps 128\n",
      "\n",
      "\n"
     ]
    },
    {
     "data": {
      "application/vnd.jupyter.widget-view+json": {
       "model_id": "",
       "version_major": 2,
       "version_minor": 0
      },
      "text/plain": [
       "HBox(children=(FloatProgress(value=1.0, bar_style='info', description='Validating', layout=Layout(flex='2'), m…"
      ]
     },
     "metadata": {},
     "output_type": "display_data"
    },
    {
     "name": "stdout",
     "output_type": "stream",
     "text": [
      "Stage 1 of 1\n",
      "energy 7.655612468719482\n",
      "bias of previous energy inf\n",
      "std 0.09917975962162018 , target 0.10000000149011612\n",
      "dt 0.01\n",
      "batch size 512\n",
      "num_steps 64\n",
      "\n",
      "\n",
      "Stage 1 of 2\n",
      "Stage 2 of 2\n",
      "energy 7.730818271636963\n",
      "bias of previous energy -0.10027440637350082\n",
      "std 0.013656605035066605 , target 0.10000000149011612\n",
      "dt 0.005\n",
      "batch size 32232\n",
      "num_steps 128\n",
      "\n",
      "\n"
     ]
    },
    {
     "data": {
      "application/vnd.jupyter.widget-view+json": {
       "model_id": "",
       "version_major": 2,
       "version_minor": 0
      },
      "text/plain": [
       "HBox(children=(FloatProgress(value=1.0, bar_style='info', description='Validating', layout=Layout(flex='2'), m…"
      ]
     },
     "metadata": {},
     "output_type": "display_data"
    },
    {
     "name": "stdout",
     "output_type": "stream",
     "text": [
      "Stage 1 of 1\n",
      "energy 7.728384494781494\n",
      "bias of previous energy inf\n",
      "std 0.07567661255598068 , target 0.10000000149011612\n",
      "dt 0.01\n",
      "batch size 512\n",
      "num_steps 64\n",
      "\n",
      "\n",
      "Stage 1 of 2\n",
      "Stage 2 of 2\n",
      "energy 7.724502086639404\n",
      "bias of previous energy 0.005176544189453125\n",
      "std 0.023507311940193176 , target 0.10000000149011612\n",
      "dt 0.005\n",
      "batch size 18766\n",
      "num_steps 128\n",
      "\n",
      "\n"
     ]
    },
    {
     "data": {
      "application/vnd.jupyter.widget-view+json": {
       "model_id": "",
       "version_major": 2,
       "version_minor": 0
      },
      "text/plain": [
       "HBox(children=(FloatProgress(value=1.0, bar_style='info', description='Validating', layout=Layout(flex='2'), m…"
      ]
     },
     "metadata": {},
     "output_type": "display_data"
    },
    {
     "name": "stdout",
     "output_type": "stream",
     "text": [
      "Stage 1 of 1\n",
      "energy 7.687399864196777\n",
      "bias of previous energy inf\n",
      "std 0.08184293657541275 , target 0.10000000149011612\n",
      "dt 0.01\n",
      "batch size 512\n",
      "num_steps 64\n",
      "\n",
      "\n",
      "Stage 1 of 2\n",
      "Stage 2 of 2\n",
      "energy 7.721034526824951\n",
      "bias of previous energy -0.04484621807932854\n",
      "std 0.017534473910927773 , target 0.10000000149011612\n",
      "dt 0.005\n",
      "batch size 21948\n",
      "num_steps 128\n",
      "\n",
      "\n"
     ]
    },
    {
     "data": {
      "application/vnd.jupyter.widget-view+json": {
       "model_id": "",
       "version_major": 2,
       "version_minor": 0
      },
      "text/plain": [
       "HBox(children=(FloatProgress(value=1.0, bar_style='info', description='Validating', layout=Layout(flex='2'), m…"
      ]
     },
     "metadata": {},
     "output_type": "display_data"
    },
    {
     "name": "stdout",
     "output_type": "stream",
     "text": [
      "Stage 1 of 1\n",
      "energy 7.815391540527344\n",
      "bias of previous energy inf\n",
      "std 0.0743182972073555 , target 0.10000000149011612\n",
      "dt 0.01\n",
      "batch size 512\n",
      "num_steps 64\n",
      "\n",
      "\n",
      "Stage 1 of 2\n",
      "Stage 2 of 2\n",
      "energy 7.743217468261719\n",
      "bias of previous energy 0.0962321013212204\n",
      "std 0.01946740224957466 , target 0.10000000149011612\n",
      "dt 0.005\n",
      "batch size 18098\n",
      "num_steps 128\n",
      "\n",
      "\n"
     ]
    },
    {
     "data": {
      "application/vnd.jupyter.widget-view+json": {
       "model_id": "",
       "version_major": 2,
       "version_minor": 0
      },
      "text/plain": [
       "HBox(children=(FloatProgress(value=1.0, bar_style='info', description='Validating', layout=Layout(flex='2'), m…"
      ]
     },
     "metadata": {},
     "output_type": "display_data"
    },
    {
     "name": "stdout",
     "output_type": "stream",
     "text": [
      "Stage 1 of 1\n",
      "energy 7.835041046142578\n",
      "bias of previous energy inf\n",
      "std 0.08510398864746094 , target 0.10000000149011612\n",
      "dt 0.01\n",
      "batch size 512\n",
      "num_steps 64\n",
      "\n",
      "\n",
      "Stage 1 of 2\n",
      "Stage 2 of 2\n",
      "energy 7.748775482177734\n",
      "bias of previous energy 0.115020751953125\n",
      "std 0.015889998525381088 , target 0.10000000149011612\n",
      "dt 0.005\n",
      "batch size 23732\n",
      "num_steps 128\n",
      "\n",
      "\n"
     ]
    },
    {
     "data": {
      "application/vnd.jupyter.widget-view+json": {
       "model_id": "",
       "version_major": 2,
       "version_minor": 0
      },
      "text/plain": [
       "HBox(children=(FloatProgress(value=1.0, bar_style='info', description='Validating', layout=Layout(flex='2'), m…"
      ]
     },
     "metadata": {},
     "output_type": "display_data"
    },
    {
     "name": "stdout",
     "output_type": "stream",
     "text": [
      "Stage 1 of 1\n",
      "energy 7.7042646408081055\n",
      "bias of previous energy inf\n",
      "std 0.07345785945653915 , target 0.10000000149011612\n",
      "dt 0.01\n",
      "batch size 512\n",
      "num_steps 64\n",
      "\n",
      "\n",
      "Stage 1 of 2\n",
      "Stage 2 of 2\n",
      "energy 7.754639625549316\n",
      "bias of previous energy -0.06716664880514145\n",
      "std 0.019543049857020378 , target 0.10000000149011612\n",
      "dt 0.005\n",
      "batch size 17681\n",
      "num_steps 128\n",
      "\n",
      "\n"
     ]
    },
    {
     "data": {
      "application/vnd.jupyter.widget-view+json": {
       "model_id": "",
       "version_major": 2,
       "version_minor": 0
      },
      "text/plain": [
       "HBox(children=(FloatProgress(value=1.0, bar_style='info', description='Validating', layout=Layout(flex='2'), m…"
      ]
     },
     "metadata": {},
     "output_type": "display_data"
    },
    {
     "name": "stdout",
     "output_type": "stream",
     "text": [
      "Stage 1 of 1\n",
      "energy 7.724812984466553\n",
      "bias of previous energy inf\n",
      "std 0.09837496280670166 , target 0.10000000149011612\n",
      "dt 0.01\n",
      "batch size 512\n",
      "num_steps 64\n",
      "\n",
      "\n",
      "Stage 1 of 2\n",
      "Stage 2 of 2\n",
      "energy 7.73308801651001\n",
      "bias of previous energy -0.011033376678824425\n",
      "std 0.013053773902356625 , target 0.10000000149011612\n",
      "dt 0.005\n",
      "batch size 31711\n",
      "num_steps 128\n",
      "\n",
      "\n"
     ]
    },
    {
     "data": {
      "application/vnd.jupyter.widget-view+json": {
       "model_id": "",
       "version_major": 2,
       "version_minor": 0
      },
      "text/plain": [
       "HBox(children=(FloatProgress(value=1.0, bar_style='info', description='Validating', layout=Layout(flex='2'), m…"
      ]
     },
     "metadata": {},
     "output_type": "display_data"
    },
    {
     "name": "stdout",
     "output_type": "stream",
     "text": [
      "Stage 1 of 1\n",
      "energy 7.7299113273620605\n",
      "bias of previous energy inf\n",
      "std 0.07639073580503464 , target 0.10000000149011612\n",
      "dt 0.01\n",
      "batch size 512\n",
      "num_steps 64\n",
      "\n",
      "\n",
      "Stage 1 of 2\n",
      "Stage 2 of 2\n",
      "energy 7.724081516265869\n",
      "bias of previous energy 0.0077730817720294\n",
      "std 0.0144484993070364 , target 0.10000000149011612\n",
      "dt 0.005\n",
      "batch size 19121\n",
      "num_steps 128\n",
      "\n",
      "\n"
     ]
    },
    {
     "data": {
      "application/vnd.jupyter.widget-view+json": {
       "model_id": "",
       "version_major": 2,
       "version_minor": 0
      },
      "text/plain": [
       "HBox(children=(FloatProgress(value=1.0, bar_style='info', description='Validating', layout=Layout(flex='2'), m…"
      ]
     },
     "metadata": {},
     "output_type": "display_data"
    },
    {
     "name": "stdout",
     "output_type": "stream",
     "text": [
      "Stage 1 of 1\n",
      "energy 7.763602256774902\n",
      "bias of previous energy inf\n",
      "std 0.08060914278030396 , target 0.10000000149011612\n",
      "dt 0.01\n",
      "batch size 512\n",
      "num_steps 64\n",
      "\n",
      "\n",
      "Stage 1 of 2\n",
      "Stage 2 of 2\n",
      "energy 7.754425048828125\n",
      "bias of previous energy 0.01223627757281065\n",
      "std 0.017576545476913452 , target 0.10000000149011612\n",
      "dt 0.005\n",
      "batch size 21292\n",
      "num_steps 128\n",
      "\n",
      "\n"
     ]
    },
    {
     "data": {
      "application/vnd.jupyter.widget-view+json": {
       "model_id": "",
       "version_major": 2,
       "version_minor": 0
      },
      "text/plain": [
       "HBox(children=(FloatProgress(value=1.0, bar_style='info', description='Validating', layout=Layout(flex='2'), m…"
      ]
     },
     "metadata": {},
     "output_type": "display_data"
    },
    {
     "name": "stdout",
     "output_type": "stream",
     "text": [
      "Stage 1 of 1\n",
      "energy 7.785900592803955\n",
      "bias of previous energy inf\n",
      "std 0.0590955913066864 , target 0.10000000149011612\n",
      "dt 0.01\n",
      "batch size 512\n",
      "num_steps 64\n",
      "\n",
      "\n",
      "Stage 1 of 2\n",
      "Stage 2 of 2\n",
      "energy 7.753796100616455\n",
      "bias of previous energy 0.0428059920668602\n",
      "std 0.018086478114128113 , target 0.10000000149011612\n",
      "dt 0.005\n",
      "batch size 11443\n",
      "num_steps 128\n",
      "\n",
      "\n"
     ]
    },
    {
     "data": {
      "application/vnd.jupyter.widget-view+json": {
       "model_id": "",
       "version_major": 2,
       "version_minor": 0
      },
      "text/plain": [
       "HBox(children=(FloatProgress(value=1.0, bar_style='info', description='Validating', layout=Layout(flex='2'), m…"
      ]
     },
     "metadata": {},
     "output_type": "display_data"
    },
    {
     "name": "stdout",
     "output_type": "stream",
     "text": [
      "Stage 1 of 1\n",
      "energy 7.72812557220459\n",
      "bias of previous energy inf\n",
      "std 0.07287054508924484 , target 0.10000000149011612\n",
      "dt 0.01\n",
      "batch size 512\n",
      "num_steps 64\n",
      "\n",
      "\n",
      "Stage 1 of 2\n",
      "Stage 2 of 2\n",
      "energy 7.703674793243408\n",
      "bias of previous energy 0.03260103985667229\n",
      "std 0.01992691680788994 , target 0.10000000149011612\n",
      "dt 0.005\n",
      "batch size 17400\n",
      "num_steps 128\n",
      "\n",
      "\n"
     ]
    },
    {
     "data": {
      "application/vnd.jupyter.widget-view+json": {
       "model_id": "",
       "version_major": 2,
       "version_minor": 0
      },
      "text/plain": [
       "HBox(children=(FloatProgress(value=1.0, bar_style='info', description='Validating', layout=Layout(flex='2'), m…"
      ]
     },
     "metadata": {},
     "output_type": "display_data"
    },
    {
     "name": "stdout",
     "output_type": "stream",
     "text": [
      "Stage 1 of 1\n",
      "energy 7.589909553527832\n",
      "bias of previous energy inf\n",
      "std 0.0923345685005188 , target 0.10000000149011612\n",
      "dt 0.01\n",
      "batch size 512\n",
      "num_steps 64\n",
      "\n",
      "\n",
      "Stage 1 of 2\n",
      "Stage 2 of 2\n",
      "energy 7.680351257324219\n",
      "bias of previous energy -0.12058894336223602\n",
      "std 0.012604801915585995 , target 0.10000000149011612\n",
      "dt 0.005\n",
      "batch size 27936\n",
      "num_steps 128\n",
      "\n",
      "\n"
     ]
    },
    {
     "data": {
      "application/vnd.jupyter.widget-view+json": {
       "model_id": "",
       "version_major": 2,
       "version_minor": 0
      },
      "text/plain": [
       "HBox(children=(FloatProgress(value=1.0, bar_style='info', description='Validating', layout=Layout(flex='2'), m…"
      ]
     },
     "metadata": {},
     "output_type": "display_data"
    },
    {
     "name": "stdout",
     "output_type": "stream",
     "text": [
      "Stage 1 of 1\n",
      "energy 7.733710289001465\n",
      "bias of previous energy inf\n",
      "std 0.08395745605230331 , target 0.10000000149011612\n",
      "dt 0.01\n",
      "batch size 512\n",
      "num_steps 64\n",
      "\n",
      "\n",
      "Stage 1 of 2\n",
      "Stage 2 of 2\n",
      "energy 7.709834575653076\n",
      "bias of previous energy 0.03183428570628166\n",
      "std 0.01550686452537775 , target 0.10000000149011612\n",
      "dt 0.005\n",
      "batch size 23097\n",
      "num_steps 128\n",
      "\n",
      "\n"
     ]
    },
    {
     "data": {
      "application/vnd.jupyter.widget-view+json": {
       "model_id": "",
       "version_major": 2,
       "version_minor": 0
      },
      "text/plain": [
       "HBox(children=(FloatProgress(value=1.0, bar_style='info', description='Validating', layout=Layout(flex='2'), m…"
      ]
     },
     "metadata": {},
     "output_type": "display_data"
    },
    {
     "name": "stdout",
     "output_type": "stream",
     "text": [
      "Stage 1 of 1\n",
      "energy 7.793787002563477\n",
      "bias of previous energy inf\n",
      "std 0.07854672521352768 , target 0.10000000149011612\n",
      "dt 0.01\n",
      "batch size 512\n",
      "num_steps 64\n",
      "\n",
      "\n",
      "Stage 1 of 2\n",
      "Stage 2 of 2\n",
      "energy 7.693231582641602\n",
      "bias of previous energy 0.1340738981962204\n",
      "std 0.016655314713716507 , target 0.10000000149011612\n",
      "dt 0.005\n",
      "batch size 20216\n",
      "num_steps 128\n",
      "\n",
      "\n"
     ]
    },
    {
     "data": {
      "application/vnd.jupyter.widget-view+json": {
       "model_id": "",
       "version_major": 2,
       "version_minor": 0
      },
      "text/plain": [
       "HBox(children=(FloatProgress(value=1.0, bar_style='info', description='Validating', layout=Layout(flex='2'), m…"
      ]
     },
     "metadata": {},
     "output_type": "display_data"
    },
    {
     "name": "stdout",
     "output_type": "stream",
     "text": [
      "Stage 1 of 1\n",
      "energy 7.644754886627197\n",
      "bias of previous energy inf\n",
      "std 0.07357865571975708 , target 0.10000000149011612\n",
      "dt 0.01\n",
      "batch size 512\n",
      "num_steps 64\n",
      "\n",
      "\n",
      "Stage 1 of 2\n",
      "Stage 2 of 2\n",
      "energy 7.725606441497803\n",
      "bias of previous energy -0.10780207812786102\n",
      "std 0.01689472608268261 , target 0.10000000149011612\n",
      "dt 0.005\n",
      "batch size 17739\n",
      "num_steps 128\n",
      "\n",
      "\n"
     ]
    },
    {
     "data": {
      "application/vnd.jupyter.widget-view+json": {
       "model_id": "",
       "version_major": 2,
       "version_minor": 0
      },
      "text/plain": [
       "HBox(children=(FloatProgress(value=1.0, bar_style='info', description='Validating', layout=Layout(flex='2'), m…"
      ]
     },
     "metadata": {},
     "output_type": "display_data"
    },
    {
     "name": "stdout",
     "output_type": "stream",
     "text": [
      "Stage 1 of 1\n",
      "energy 7.580601215362549\n",
      "bias of previous energy inf\n",
      "std 0.0647617056965828 , target 0.10000000149011612\n",
      "dt 0.01\n",
      "batch size 512\n",
      "num_steps 64\n",
      "\n",
      "\n",
      "Stage 1 of 2\n",
      "Stage 2 of 2\n",
      "energy 7.695613861083984\n",
      "bias of previous energy -0.15335020422935486\n",
      "std 0.026032010093331337 , target 0.10000000149011612\n",
      "dt 0.005\n",
      "batch size 13743\n",
      "num_steps 128\n",
      "\n",
      "\n"
     ]
    },
    {
     "data": {
      "application/vnd.jupyter.widget-view+json": {
       "model_id": "",
       "version_major": 2,
       "version_minor": 0
      },
      "text/plain": [
       "HBox(children=(FloatProgress(value=1.0, bar_style='info', description='Validating', layout=Layout(flex='2'), m…"
      ]
     },
     "metadata": {},
     "output_type": "display_data"
    },
    {
     "name": "stdout",
     "output_type": "stream",
     "text": [
      "Stage 1 of 1\n",
      "energy 7.657397270202637\n",
      "bias of previous energy inf\n",
      "std 0.06800147145986557 , target 0.10000000149011612\n",
      "dt 0.01\n",
      "batch size 512\n",
      "num_steps 64\n",
      "\n",
      "\n",
      "Stage 1 of 2\n",
      "Stage 2 of 2\n",
      "energy 7.731348514556885\n",
      "bias of previous energy -0.09860166162252426\n",
      "std 0.021372299641370773 , target 0.10000000149011612\n",
      "dt 0.005\n",
      "batch size 15152\n",
      "num_steps 128\n",
      "\n",
      "\n"
     ]
    },
    {
     "data": {
      "application/vnd.jupyter.widget-view+json": {
       "model_id": "",
       "version_major": 2,
       "version_minor": 0
      },
      "text/plain": [
       "HBox(children=(FloatProgress(value=1.0, bar_style='info', description='Validating', layout=Layout(flex='2'), m…"
      ]
     },
     "metadata": {},
     "output_type": "display_data"
    },
    {
     "name": "stdout",
     "output_type": "stream",
     "text": [
      "Stage 1 of 1\n",
      "energy 7.795609474182129\n",
      "bias of previous energy inf\n",
      "std 0.08790895342826843 , target 0.10000000149011612\n",
      "dt 0.01\n",
      "batch size 512\n",
      "num_steps 64\n",
      "\n",
      "\n",
      "Stage 1 of 2\n",
      "Stage 2 of 2\n",
      "energy 7.759388446807861\n",
      "bias of previous energy 0.04829470440745354\n",
      "std 0.013971789740025997 , target 0.10000000149011612\n",
      "dt 0.005\n",
      "batch size 25323\n",
      "num_steps 128\n",
      "\n",
      "\n"
     ]
    },
    {
     "data": {
      "application/vnd.jupyter.widget-view+json": {
       "model_id": "",
       "version_major": 2,
       "version_minor": 0
      },
      "text/plain": [
       "HBox(children=(FloatProgress(value=1.0, bar_style='info', description='Validating', layout=Layout(flex='2'), m…"
      ]
     },
     "metadata": {},
     "output_type": "display_data"
    },
    {
     "name": "stdout",
     "output_type": "stream",
     "text": [
      "Stage 1 of 1\n",
      "energy 7.723759651184082\n",
      "bias of previous energy inf\n",
      "std 0.080097496509552 , target 0.10000000149011612\n",
      "dt 0.01\n",
      "batch size 512\n",
      "num_steps 64\n",
      "\n",
      "\n",
      "Stage 1 of 2\n",
      "Stage 2 of 2\n",
      "energy 7.686310291290283\n",
      "bias of previous energy 0.04993247985839844\n",
      "std 0.016822494566440582 , target 0.10000000149011612\n",
      "dt 0.005\n",
      "batch size 21022\n",
      "num_steps 128\n",
      "\n",
      "\n"
     ]
    },
    {
     "data": {
      "application/vnd.jupyter.widget-view+json": {
       "model_id": "",
       "version_major": 2,
       "version_minor": 0
      },
      "text/plain": [
       "HBox(children=(FloatProgress(value=1.0, bar_style='info', description='Validating', layout=Layout(flex='2'), m…"
      ]
     },
     "metadata": {},
     "output_type": "display_data"
    },
    {
     "name": "stdout",
     "output_type": "stream",
     "text": [
      "Stage 1 of 1\n",
      "energy 7.683313846588135\n",
      "bias of previous energy inf\n",
      "std 0.08060101419687271 , target 0.10000000149011612\n",
      "dt 0.01\n",
      "batch size 512\n",
      "num_steps 64\n",
      "\n",
      "\n",
      "Stage 1 of 2\n",
      "Stage 2 of 2\n",
      "energy 7.679394721984863\n",
      "bias of previous energy 0.005225499626249075\n",
      "std 0.01591239683330059 , target 0.10000000149011612\n",
      "dt 0.005\n",
      "batch size 21287\n",
      "num_steps 128\n",
      "\n",
      "\n"
     ]
    },
    {
     "data": {
      "application/vnd.jupyter.widget-view+json": {
       "model_id": "",
       "version_major": 2,
       "version_minor": 0
      },
      "text/plain": [
       "HBox(children=(FloatProgress(value=1.0, bar_style='info', description='Validating', layout=Layout(flex='2'), m…"
      ]
     },
     "metadata": {},
     "output_type": "display_data"
    },
    {
     "name": "stdout",
     "output_type": "stream",
     "text": [
      "Stage 1 of 1\n",
      "energy 7.628326892852783\n",
      "bias of previous energy inf\n",
      "std 0.08881472796201706 , target 0.10000000149011612\n",
      "dt 0.01\n",
      "batch size 512\n",
      "num_steps 64\n",
      "\n",
      "\n",
      "Stage 1 of 2\n",
      "Stage 2 of 2\n",
      "energy 7.707136631011963\n",
      "bias of previous energy -0.10507965087890625\n",
      "std 0.015699388459324837 , target 0.10000000149011612\n",
      "dt 0.005\n",
      "batch size 25847\n",
      "num_steps 128\n",
      "\n",
      "\n"
     ]
    },
    {
     "data": {
      "application/vnd.jupyter.widget-view+json": {
       "model_id": "",
       "version_major": 2,
       "version_minor": 0
      },
      "text/plain": [
       "HBox(children=(FloatProgress(value=1.0, bar_style='info', description='Validating', layout=Layout(flex='2'), m…"
      ]
     },
     "metadata": {},
     "output_type": "display_data"
    },
    {
     "name": "stdout",
     "output_type": "stream",
     "text": [
      "Stage 1 of 1\n",
      "energy 7.52747917175293\n",
      "bias of previous energy inf\n",
      "std 0.0735258236527443 , target 0.10000000149011612\n",
      "dt 0.01\n",
      "batch size 512\n",
      "num_steps 64\n",
      "\n",
      "\n",
      "Stage 1 of 2\n",
      "Stage 2 of 2\n",
      "energy 7.652506351470947\n",
      "bias of previous energy -0.16670291125774384\n",
      "std 0.019947852939367294 , target 0.10000000149011612\n",
      "dt 0.005\n",
      "batch size 17714\n",
      "num_steps 128\n",
      "\n",
      "\n"
     ]
    },
    {
     "data": {
      "application/vnd.jupyter.widget-view+json": {
       "model_id": "",
       "version_major": 2,
       "version_minor": 0
      },
      "text/plain": [
       "HBox(children=(FloatProgress(value=1.0, bar_style='info', description='Validating', layout=Layout(flex='2'), m…"
      ]
     },
     "metadata": {},
     "output_type": "display_data"
    },
    {
     "name": "stdout",
     "output_type": "stream",
     "text": [
      "Stage 1 of 1\n",
      "energy 7.682162284851074\n",
      "bias of previous energy inf\n",
      "std 0.10491251200437546 , target 0.10000000149011612\n",
      "dt 0.01\n",
      "batch size 512\n",
      "num_steps 64\n",
      "\n",
      "\n",
      "Stage 1 of 2\n",
      "Stage 2 of 2\n",
      "energy 7.694130897521973\n",
      "bias of previous energy -0.0159581508487463\n",
      "std 0.010717139579355717 , target 0.10000000149011612\n",
      "dt 0.005\n",
      "batch size 36066\n",
      "num_steps 128\n",
      "\n",
      "\n"
     ]
    },
    {
     "data": {
      "application/vnd.jupyter.widget-view+json": {
       "model_id": "",
       "version_major": 2,
       "version_minor": 0
      },
      "text/plain": [
       "HBox(children=(FloatProgress(value=1.0, bar_style='info', description='Validating', layout=Layout(flex='2'), m…"
      ]
     },
     "metadata": {},
     "output_type": "display_data"
    },
    {
     "name": "stdout",
     "output_type": "stream",
     "text": [
      "Stage 1 of 1\n",
      "energy 7.6927666664123535\n",
      "bias of previous energy inf\n",
      "std 0.0736311823129654 , target 0.10000000149011612\n",
      "dt 0.01\n",
      "batch size 512\n",
      "num_steps 64\n",
      "\n",
      "\n",
      "Stage 1 of 2\n",
      "Stage 2 of 2\n",
      "energy 7.697681427001953\n",
      "bias of previous energy -0.006553014274686575\n",
      "std 0.022502785548567772 , target 0.10000000149011612\n",
      "dt 0.005\n",
      "batch size 17765\n",
      "num_steps 128\n",
      "\n",
      "\n"
     ]
    },
    {
     "data": {
      "application/vnd.jupyter.widget-view+json": {
       "model_id": "",
       "version_major": 2,
       "version_minor": 0
      },
      "text/plain": [
       "HBox(children=(FloatProgress(value=1.0, bar_style='info', description='Validating', layout=Layout(flex='2'), m…"
      ]
     },
     "metadata": {},
     "output_type": "display_data"
    },
    {
     "name": "stdout",
     "output_type": "stream",
     "text": [
      "Stage 1 of 1\n",
      "energy 7.6516618728637695\n",
      "bias of previous energy inf\n",
      "std 0.07856878638267517 , target 0.10000000149011612\n",
      "dt 0.01\n",
      "batch size 512\n",
      "num_steps 64\n",
      "\n",
      "\n",
      "Stage 1 of 2\n",
      "Stage 2 of 2\n",
      "energy 7.717870235443115\n",
      "bias of previous energy -0.08827781677246094\n",
      "std 0.017689183354377747 , target 0.10000000149011612\n",
      "dt 0.005\n",
      "batch size 20227\n",
      "num_steps 128\n",
      "\n",
      "\n"
     ]
    },
    {
     "data": {
      "application/vnd.jupyter.widget-view+json": {
       "model_id": "",
       "version_major": 2,
       "version_minor": 0
      },
      "text/plain": [
       "HBox(children=(FloatProgress(value=1.0, bar_style='info', description='Validating', layout=Layout(flex='2'), m…"
      ]
     },
     "metadata": {},
     "output_type": "display_data"
    },
    {
     "name": "stdout",
     "output_type": "stream",
     "text": [
      "Stage 1 of 1\n",
      "energy 7.683394432067871\n",
      "bias of previous energy inf\n",
      "std 0.09635479748249054 , target 0.10000000149011612\n",
      "dt 0.01\n",
      "batch size 512\n",
      "num_steps 64\n",
      "\n",
      "\n",
      "Stage 1 of 2\n",
      "Stage 2 of 2\n",
      "energy 7.706724643707275\n",
      "bias of previous energy -0.031106948852539062\n",
      "std 0.015013855881989002 , target 0.10000000149011612\n",
      "dt 0.005\n",
      "batch size 30422\n",
      "num_steps 128\n",
      "\n",
      "\n"
     ]
    },
    {
     "data": {
      "application/vnd.jupyter.widget-view+json": {
       "model_id": "",
       "version_major": 2,
       "version_minor": 0
      },
      "text/plain": [
       "HBox(children=(FloatProgress(value=1.0, bar_style='info', description='Validating', layout=Layout(flex='2'), m…"
      ]
     },
     "metadata": {},
     "output_type": "display_data"
    },
    {
     "name": "stdout",
     "output_type": "stream",
     "text": [
      "Stage 1 of 1\n",
      "energy 7.690730094909668\n",
      "bias of previous energy inf\n",
      "std 0.06923174858093262 , target 0.10000000149011612\n",
      "dt 0.01\n",
      "batch size 512\n",
      "num_steps 64\n",
      "\n",
      "\n",
      "Stage 1 of 2\n",
      "Stage 2 of 2\n",
      "energy 7.673570156097412\n",
      "bias of previous energy 0.022879919037222862\n",
      "std 0.01709163375198841 , target 0.10000000149011612\n",
      "dt 0.005\n",
      "batch size 15705\n",
      "num_steps 128\n",
      "\n",
      "\n"
     ]
    },
    {
     "data": {
      "application/vnd.jupyter.widget-view+json": {
       "model_id": "",
       "version_major": 2,
       "version_minor": 0
      },
      "text/plain": [
       "HBox(children=(FloatProgress(value=1.0, bar_style='info', description='Validating', layout=Layout(flex='2'), m…"
      ]
     },
     "metadata": {},
     "output_type": "display_data"
    },
    {
     "name": "stdout",
     "output_type": "stream",
     "text": [
      "Stage 1 of 1\n",
      "energy 7.612189292907715\n",
      "bias of previous energy inf\n",
      "std 0.10567783564329147 , target 0.10000000149011612\n",
      "dt 0.01\n",
      "batch size 512\n",
      "num_steps 64\n",
      "\n",
      "\n",
      "Stage 1 of 2\n",
      "Stage 2 of 2\n",
      "energy 7.695847511291504\n",
      "bias of previous energy -0.11154429614543915\n",
      "std 0.010756070725619793 , target 0.10000000149011612\n",
      "dt 0.005\n",
      "batch size 36594\n",
      "num_steps 128\n",
      "\n",
      "\n"
     ]
    },
    {
     "data": {
      "application/vnd.jupyter.widget-view+json": {
       "model_id": "",
       "version_major": 2,
       "version_minor": 0
      },
      "text/plain": [
       "HBox(children=(FloatProgress(value=1.0, bar_style='info', description='Validating', layout=Layout(flex='2'), m…"
      ]
     },
     "metadata": {},
     "output_type": "display_data"
    },
    {
     "name": "stdout",
     "output_type": "stream",
     "text": [
      "Stage 1 of 1\n",
      "energy 7.724270820617676\n",
      "bias of previous energy inf\n",
      "std 0.08653315901756287 , target 0.10000000149011612\n",
      "dt 0.01\n",
      "batch size 512\n",
      "num_steps 64\n",
      "\n",
      "\n",
      "Stage 1 of 2\n",
      "Stage 2 of 2\n",
      "energy 7.717304706573486\n",
      "bias of previous energy 0.009288152679800987\n",
      "std 0.01619734987616539 , target 0.10000000149011612\n",
      "dt 0.005\n",
      "batch size 24536\n",
      "num_steps 128\n",
      "\n",
      "\n"
     ]
    },
    {
     "data": {
      "application/vnd.jupyter.widget-view+json": {
       "model_id": "",
       "version_major": 2,
       "version_minor": 0
      },
      "text/plain": [
       "HBox(children=(FloatProgress(value=1.0, bar_style='info', description='Validating', layout=Layout(flex='2'), m…"
      ]
     },
     "metadata": {},
     "output_type": "display_data"
    },
    {
     "name": "stdout",
     "output_type": "stream",
     "text": [
      "Stage 1 of 1\n",
      "energy 7.747579574584961\n",
      "bias of previous energy inf\n",
      "std 0.08015140146017075 , target 0.10000000149011612\n",
      "dt 0.01\n",
      "batch size 512\n",
      "num_steps 64\n",
      "\n",
      "\n",
      "Stage 1 of 2\n",
      "Stage 2 of 2\n",
      "energy 7.699328899383545\n",
      "bias of previous energy 0.06433423608541489\n",
      "std 0.018087781965732574 , target 0.10000000149011612\n",
      "dt 0.005\n",
      "batch size 21050\n",
      "num_steps 128\n",
      "\n",
      "\n"
     ]
    },
    {
     "data": {
      "application/vnd.jupyter.widget-view+json": {
       "model_id": "",
       "version_major": 2,
       "version_minor": 0
      },
      "text/plain": [
       "HBox(children=(FloatProgress(value=1.0, bar_style='info', description='Validating', layout=Layout(flex='2'), m…"
      ]
     },
     "metadata": {},
     "output_type": "display_data"
    },
    {
     "name": "stdout",
     "output_type": "stream",
     "text": [
      "Stage 1 of 1\n",
      "energy 7.574100017547607\n",
      "bias of previous energy inf\n",
      "std 0.07276008278131485 , target 0.10000000149011612\n",
      "dt 0.01\n",
      "batch size 512\n",
      "num_steps 64\n",
      "\n",
      "\n",
      "Stage 1 of 2\n",
      "Stage 2 of 2\n",
      "energy 7.681499481201172\n",
      "bias of previous energy -0.14319929480552673\n",
      "std 0.015538964420557022 , target 0.10000000149011612\n",
      "dt 0.005\n",
      "batch size 17347\n",
      "num_steps 128\n",
      "\n",
      "\n"
     ]
    },
    {
     "data": {
      "application/vnd.jupyter.widget-view+json": {
       "model_id": "",
       "version_major": 2,
       "version_minor": 0
      },
      "text/plain": [
       "HBox(children=(FloatProgress(value=1.0, bar_style='info', description='Validating', layout=Layout(flex='2'), m…"
      ]
     },
     "metadata": {},
     "output_type": "display_data"
    },
    {
     "name": "stdout",
     "output_type": "stream",
     "text": [
      "Stage 1 of 1\n",
      "energy 7.632882118225098\n",
      "bias of previous energy inf\n",
      "std 0.07287400960922241 , target 0.10000000149011612\n",
      "dt 0.01\n",
      "batch size 512\n",
      "num_steps 64\n",
      "\n",
      "\n",
      "Stage 1 of 2\n",
      "Stage 2 of 2\n",
      "energy 7.699760437011719\n",
      "bias of previous energy -0.08917109668254852\n",
      "std 0.01673986203968525 , target 0.10000000149011612\n",
      "dt 0.005\n",
      "batch size 17401\n",
      "num_steps 128\n",
      "\n",
      "\n"
     ]
    },
    {
     "data": {
      "application/vnd.jupyter.widget-view+json": {
       "model_id": "",
       "version_major": 2,
       "version_minor": 0
      },
      "text/plain": [
       "HBox(children=(FloatProgress(value=1.0, bar_style='info', description='Validating', layout=Layout(flex='2'), m…"
      ]
     },
     "metadata": {},
     "output_type": "display_data"
    },
    {
     "name": "stdout",
     "output_type": "stream",
     "text": [
      "Stage 1 of 1\n",
      "energy 7.697023391723633\n",
      "bias of previous energy inf\n",
      "std 0.0689850002527237 , target 0.10000000149011612\n",
      "dt 0.01\n",
      "batch size 512\n",
      "num_steps 64\n",
      "\n",
      "\n",
      "Stage 1 of 2\n",
      "Stage 2 of 2\n",
      "energy 7.700042724609375\n",
      "bias of previous energy -0.0040257773362100124\n",
      "std 0.01964394561946392 , target 0.10000000149011612\n",
      "dt 0.005\n",
      "batch size 15594\n",
      "num_steps 128\n",
      "\n",
      "\n"
     ]
    },
    {
     "data": {
      "application/vnd.jupyter.widget-view+json": {
       "model_id": "",
       "version_major": 2,
       "version_minor": 0
      },
      "text/plain": [
       "HBox(children=(FloatProgress(value=1.0, bar_style='info', description='Validating', layout=Layout(flex='2'), m…"
      ]
     },
     "metadata": {},
     "output_type": "display_data"
    },
    {
     "name": "stdout",
     "output_type": "stream",
     "text": [
      "Stage 1 of 1\n",
      "energy 7.6551361083984375\n",
      "bias of previous energy inf\n",
      "std 0.07832114398479462 , target 0.10000000149011612\n",
      "dt 0.01\n",
      "batch size 512\n",
      "num_steps 64\n",
      "\n",
      "\n",
      "Stage 1 of 2\n",
      "Stage 2 of 2\n",
      "energy 7.673400402069092\n",
      "bias of previous energy -0.024352392181754112\n",
      "std 0.021960245445370674 , target 0.10000000149011612\n",
      "dt 0.005\n",
      "batch size 20100\n",
      "num_steps 128\n",
      "\n",
      "\n"
     ]
    },
    {
     "name": "stderr",
     "output_type": "stream",
     "text": [
      "Detected KeyboardInterrupt, attempting graceful shutdown...\n",
      "INFO:lightning:Detected KeyboardInterrupt, attempting graceful shutdown...\n"
     ]
    },
    {
     "name": "stdout",
     "output_type": "stream",
     "text": [
      "\n"
     ]
    },
    {
     "data": {
      "text/plain": [
       "1"
      ]
     },
     "execution_count": 15,
     "metadata": {},
     "output_type": "execute_result"
    }
   ],
   "source": [
    "\n",
    "trainer.fit(model)"
   ]
  },
  {
   "cell_type": "markdown",
   "metadata": {},
   "source": [
    "### Load trained model"
   ]
  },
  {
   "cell_type": "code",
   "execution_count": 15,
   "metadata": {},
   "outputs": [
    {
     "ename": "FileNotFoundError",
     "evalue": "[Errno 2] No such file or directory: 'results/test2/version_6/_ckpt_epoch_0.ckpt'",
     "output_type": "error",
     "traceback": [
      "\u001b[0;31m---------------------------------------------------------------------------\u001b[0m",
      "\u001b[0;31mFileNotFoundError\u001b[0m                         Traceback (most recent call last)",
      "\u001b[0;32m<ipython-input-15-cd4964e0b4bb>\u001b[0m in \u001b[0;36m<module>\u001b[0;34m\u001b[0m\n\u001b[1;32m      1\u001b[0m \u001b[0mcheckpoint_path\u001b[0m \u001b[0;34m=\u001b[0m \u001b[0;34m'results/test2/version_6/_ckpt_epoch_0.ckpt'\u001b[0m\u001b[0;34m\u001b[0m\u001b[0;34m\u001b[0m\u001b[0m\n\u001b[0;32m----> 2\u001b[0;31m \u001b[0mmodel\u001b[0m \u001b[0;34m=\u001b[0m \u001b[0mcontinuum\u001b[0m\u001b[0;34m.\u001b[0m\u001b[0mSDESolve\u001b[0m\u001b[0;34m.\u001b[0m\u001b[0mload_from_checkpoint\u001b[0m\u001b[0;34m(\u001b[0m\u001b[0mcheckpoint_path\u001b[0m\u001b[0;34m)\u001b[0m\u001b[0;34m\u001b[0m\u001b[0;34m\u001b[0m\u001b[0m\n\u001b[0m",
      "\u001b[0;32m~/.local/lib/python3.6/site-packages/pytorch_lightning/core/lightning.py\u001b[0m in \u001b[0;36mload_from_checkpoint\u001b[0;34m(cls, checkpoint_path, map_location, hparams_file, tags_csv, hparam_overrides, *args, **kwargs)\u001b[0m\n\u001b[1;32m   1571\u001b[0m             \u001b[0mcheckpoint\u001b[0m \u001b[0;34m=\u001b[0m \u001b[0mtorch\u001b[0m\u001b[0;34m.\u001b[0m\u001b[0mload\u001b[0m\u001b[0;34m(\u001b[0m\u001b[0mcheckpoint_path\u001b[0m\u001b[0;34m,\u001b[0m \u001b[0mmap_location\u001b[0m\u001b[0;34m=\u001b[0m\u001b[0mmap_location\u001b[0m\u001b[0;34m)\u001b[0m\u001b[0;34m\u001b[0m\u001b[0;34m\u001b[0m\u001b[0m\n\u001b[1;32m   1572\u001b[0m         \u001b[0;32melse\u001b[0m\u001b[0;34m:\u001b[0m\u001b[0;34m\u001b[0m\u001b[0;34m\u001b[0m\u001b[0m\n\u001b[0;32m-> 1573\u001b[0;31m             \u001b[0mcheckpoint\u001b[0m \u001b[0;34m=\u001b[0m \u001b[0mtorch\u001b[0m\u001b[0;34m.\u001b[0m\u001b[0mload\u001b[0m\u001b[0;34m(\u001b[0m\u001b[0mcheckpoint_path\u001b[0m\u001b[0;34m,\u001b[0m \u001b[0mmap_location\u001b[0m\u001b[0;34m=\u001b[0m\u001b[0;32mlambda\u001b[0m \u001b[0mstorage\u001b[0m\u001b[0;34m,\u001b[0m \u001b[0mloc\u001b[0m\u001b[0;34m:\u001b[0m \u001b[0mstorage\u001b[0m\u001b[0;34m)\u001b[0m\u001b[0;34m\u001b[0m\u001b[0;34m\u001b[0m\u001b[0m\n\u001b[0m\u001b[1;32m   1574\u001b[0m \u001b[0;34m\u001b[0m\u001b[0m\n\u001b[1;32m   1575\u001b[0m         \u001b[0;31m# add the hparams from csv file to checkpoint\u001b[0m\u001b[0;34m\u001b[0m\u001b[0;34m\u001b[0m\u001b[0;34m\u001b[0m\u001b[0m\n",
      "\u001b[0;32m~/anaconda3/lib/python3.7/site-packages/torch/serialization.py\u001b[0m in \u001b[0;36mload\u001b[0;34m(f, map_location, pickle_module, **pickle_load_args)\u001b[0m\n\u001b[1;32m    417\u001b[0m             \u001b[0;34m(\u001b[0m\u001b[0msys\u001b[0m\u001b[0;34m.\u001b[0m\u001b[0mversion_info\u001b[0m\u001b[0;34m[\u001b[0m\u001b[0;36m0\u001b[0m\u001b[0;34m]\u001b[0m \u001b[0;34m==\u001b[0m \u001b[0;36m2\u001b[0m \u001b[0;32mand\u001b[0m \u001b[0misinstance\u001b[0m\u001b[0;34m(\u001b[0m\u001b[0mf\u001b[0m\u001b[0;34m,\u001b[0m \u001b[0municode\u001b[0m\u001b[0;34m)\u001b[0m\u001b[0;34m)\u001b[0m\u001b[0;34m:\u001b[0m\u001b[0;34m\u001b[0m\u001b[0;34m\u001b[0m\u001b[0m\n\u001b[1;32m    418\u001b[0m         \u001b[0mnew_fd\u001b[0m \u001b[0;34m=\u001b[0m \u001b[0;32mTrue\u001b[0m\u001b[0;34m\u001b[0m\u001b[0;34m\u001b[0m\u001b[0m\n\u001b[0;32m--> 419\u001b[0;31m         \u001b[0mf\u001b[0m \u001b[0;34m=\u001b[0m \u001b[0mopen\u001b[0m\u001b[0;34m(\u001b[0m\u001b[0mf\u001b[0m\u001b[0;34m,\u001b[0m \u001b[0;34m'rb'\u001b[0m\u001b[0;34m)\u001b[0m\u001b[0;34m\u001b[0m\u001b[0;34m\u001b[0m\u001b[0m\n\u001b[0m\u001b[1;32m    420\u001b[0m     \u001b[0;32melif\u001b[0m \u001b[0;34m(\u001b[0m\u001b[0msys\u001b[0m\u001b[0;34m.\u001b[0m\u001b[0mversion_info\u001b[0m\u001b[0;34m[\u001b[0m\u001b[0;36m0\u001b[0m\u001b[0;34m]\u001b[0m \u001b[0;34m==\u001b[0m \u001b[0;36m3\u001b[0m \u001b[0;32mand\u001b[0m \u001b[0misinstance\u001b[0m\u001b[0;34m(\u001b[0m\u001b[0mf\u001b[0m\u001b[0;34m,\u001b[0m \u001b[0mpathlib\u001b[0m\u001b[0;34m.\u001b[0m\u001b[0mPath\u001b[0m\u001b[0;34m)\u001b[0m\u001b[0;34m)\u001b[0m\u001b[0;34m:\u001b[0m\u001b[0;34m\u001b[0m\u001b[0;34m\u001b[0m\u001b[0m\n\u001b[1;32m    421\u001b[0m         \u001b[0mnew_fd\u001b[0m \u001b[0;34m=\u001b[0m \u001b[0;32mTrue\u001b[0m\u001b[0;34m\u001b[0m\u001b[0;34m\u001b[0m\u001b[0m\n",
      "\u001b[0;31mFileNotFoundError\u001b[0m: [Errno 2] No such file or directory: 'results/test2/version_6/_ckpt_epoch_0.ckpt'"
     ]
    }
   ],
   "source": [
    "checkpoint_path = 'results/Boson_4p_g12/version_0/_ckpt_epoch_103.ckpt'\n",
    "model = continuum.SDESolve.load_from_checkpoint(checkpoint_path)"
   ]
  },
  {
   "cell_type": "markdown",
   "metadata": {},
   "source": [
    "### Resume training"
   ]
  },
  {
   "cell_type": "code",
   "execution_count": null,
   "metadata": {},
   "outputs": [],
   "source": [
    "trainer = Trainer(name='Boson_4p_g12', gpus=[0],\n",
    "                  version=0, resume_from_checkpoint=checkpoint_path)"
   ]
  },
  {
   "cell_type": "code",
   "execution_count": null,
   "metadata": {},
   "outputs": [],
   "source": [
    "trainer.fit(model)"
   ]
  }
 ],
 "metadata": {
  "kernelspec": {
   "display_name": "Python 3",
   "language": "python",
   "name": "python3"
  },
  "language_info": {
   "codemirror_mode": {
    "name": "ipython",
    "version": 3
   },
   "file_extension": ".py",
   "mimetype": "text/x-python",
   "name": "python",
   "nbconvert_exporter": "python",
   "pygments_lexer": "ipython3",
   "version": "3.7.5"
  }
 },
 "nbformat": 4,
 "nbformat_minor": 2
}
