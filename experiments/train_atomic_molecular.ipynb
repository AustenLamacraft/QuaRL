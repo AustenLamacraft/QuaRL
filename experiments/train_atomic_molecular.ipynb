{
 "cells": [
  {
   "cell_type": "markdown",
   "metadata": {},
   "source": [
    "# Train atomic and molecular systems\n",
    "This notebook can be used to train the atomic and molecular systems H, He and H2.\n",
    "If you prefer to use a Python script, use `train_atomic_molecular.py` instead."
   ]
  },
  {
   "cell_type": "code",
   "execution_count": null,
   "metadata": {
    "scrolled": true
   },
   "outputs": [],
   "source": [
    "import torch"
   ]
  },
  {
   "cell_type": "code",
   "execution_count": null,
   "metadata": {},
   "outputs": [],
   "source": [
    "import sys\n",
    "sys.path.append('../../')"
   ]
  },
  {
   "cell_type": "code",
   "execution_count": null,
   "metadata": {},
   "outputs": [],
   "source": [
    "import continuum\n",
    "from trainer import Trainer"
   ]
  },
  {
   "cell_type": "markdown",
   "metadata": {},
   "source": [
    "### Choose system and make hparams\n",
    "Each system has its own hparams. Please uncomment only the hparams settings for the system you would like to train."
   ]
  },
  {
   "cell_type": "code",
   "execution_count": null,
   "metadata": {},
   "outputs": [],
   "source": [
    "# # hparams for Hydrogen atom (H)\n",
    "# hparams = deepcopy(continuum.DEFAULT_HPARAMS)\n",
    "# hparams.net = 'DriftResNet'\n",
    "# hparams.potential = 'h_potential'\n",
    "# hparams.number_of_particles = 1\n",
    "# hparams.D = 3\n",
    "# hparams.H = 256\n",
    "# hparams.lr = 1e-2\n",
    "\n",
    "## hparams for Helium atom (He)\n",
    "hparams = continuum.DEFAULT_HPARAMS\n",
    "hparams.net = 'PairDriftHelium'\n",
    "hparams.potential = 'he_potential'\n",
    "hparams.number_of_particles = 2\n",
    "hparams.D = 3\n",
    "hparams.lr = 1e-3\n",
    "\n",
    "# # hparams for Hydrogen molecule (H2)\n",
    "# hparams = deepcopy(continuum.DEFAULT_HPARAMS)\n",
    "# hparams.net = 'PairDriftH2'\n",
    "# hparams.potential = 'h2_param'\n",
    "# hparams.R = 1.401  # set to 2.8 for wide H2 molecule\n",
    "# hparams.number_of_particles = 2\n",
    "# hparams.D = 3\n",
    "# hparams.H = 64\n",
    "# hparams.lr = 5e-4\n",
    "\n",
    "# # hparams for wide Hydrogen molecule (H2)\n",
    "# hparams = deepcopy(continuum.DEFAULT_HPARAMS)\n",
    "# hparams.net = 'PairDriftH2'\n",
    "# hparams.potential = 'h2_param'\n",
    "# hparams.R = 2.8  # set to 2.8 for wide H2 molecule\n",
    "# hparams.number_of_particles = 2\n",
    "# hparams.D = 3\n",
    "# hparams.H = 64\n",
    "# hparams.lr = 1e-3\n",
    "\n",
    "print(hparams)"
   ]
  },
  {
   "cell_type": "markdown",
   "metadata": {},
   "source": [
    "## Train model"
   ]
  },
  {
   "cell_type": "code",
   "execution_count": null,
   "metadata": {},
   "outputs": [],
   "source": [
    "model = continuum.Model(hparams)"
   ]
  },
  {
   "cell_type": "code",
   "execution_count": null,
   "metadata": {},
   "outputs": [],
   "source": [
    "trainer = Trainer(name='He', gpus=[3], max_epochs=100)"
   ]
  },
  {
   "cell_type": "code",
   "execution_count": null,
   "metadata": {
    "scrolled": false
   },
   "outputs": [],
   "source": [
    "trainer.fit(model)"
   ]
  },
  {
   "cell_type": "markdown",
   "metadata": {},
   "source": [
    "### Resume training\n",
    "\n",
    "If you would like to continue training one of our trained models, uncomment and execute the following code blocks."
   ]
  },
  {
   "cell_type": "code",
   "execution_count": null,
   "metadata": {},
   "outputs": [],
   "source": [
    "# checkpoint_path = 'results/H2_wide/version_0/_ckpt_epoch_91.ckpt'\n",
    "# model = continuum.Model.load_from_checkpoint(checkpoint_path)\n",
    "# trainer = Trainer(name='H2_wide', gpus=[3],\n",
    "#                   version=0, resume_from_checkpoint=checkpoint_path,\n",
    "#                   max_epochs=42)"
   ]
  },
  {
   "cell_type": "code",
   "execution_count": null,
   "metadata": {},
   "outputs": [],
   "source": [
    "# trainer.fit(model)"
   ]
  }
 ],
 "metadata": {
  "kernelspec": {
   "display_name": "Python 3.7.5 64-bit ('rl4qm': conda)",
   "language": "python",
   "name": "python37564bitrl4qmconda91f6a7455f6c4e23900038f3ef62676e"
  },
  "language_info": {
   "codemirror_mode": {
    "name": "ipython",
    "version": 3
   },
   "file_extension": ".py",
   "mimetype": "text/x-python",
   "name": "python",
   "nbconvert_exporter": "python",
   "pygments_lexer": "ipython3",
   "version": "3.7.5-final"
  }
 },
 "nbformat": 4,
 "nbformat_minor": 2
}